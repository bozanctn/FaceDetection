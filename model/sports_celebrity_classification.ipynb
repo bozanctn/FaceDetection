version https://git-lfs.github.com/spec/v1
oid sha256:491ca0d3f0dcc2c8bda2e959651211913cf8673d8b2c5bf2d5507ee4740d9e17
size 1218276
