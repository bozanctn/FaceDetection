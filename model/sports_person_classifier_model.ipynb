version https://git-lfs.github.com/spec/v1
oid sha256:fa7d1193c282eeb6c8d5d1a49bbf8b7b5dd5ad83f771590918d310700609f99b
size 2926655
